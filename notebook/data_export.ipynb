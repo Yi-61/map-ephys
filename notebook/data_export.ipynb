{
 "cells": [
  {
   "cell_type": "markdown",
   "metadata": {},
   "source": [
    "# Data Export"
   ]
  },
  {
   "cell_type": "markdown",
   "metadata": {},
   "source": [
    "This notebook outlines browsing of the database and use of the `pipeline.export` module to export recording data.\n",
    "\n",
    "The data format is a custom format used internally by project collaborators to support non-datajoint code, and supports export of processed per-probe electrophysiology data along with the experimental events pertaining to that data.\n",
    "\n",
    "If a session is known, the export capability is also available from the `mapshell.py` script; this usage will be documented below."
   ]
  },
  {
   "cell_type": "code",
   "execution_count": 2,
   "metadata": {},
   "outputs": [
    {
     "name": "stdout",
     "output_type": "stream",
     "text": [
      "Connecting thinh@mesoscale-activity.datajoint.io:3306\n"
     ]
    }
   ],
   "source": [
    "from pipeline import lab\n",
    "from pipeline import experiment\n",
    "from pipeline import ephys\n",
    "from pipeline import export"
   ]
  },
  {
   "cell_type": "markdown",
   "metadata": {},
   "source": [
    "## Find Session / Probe Insertion"
   ]
  },
  {
   "cell_type": "code",
   "execution_count": 3,
   "metadata": {},
   "outputs": [
    {
     "data": {
      "text/html": [
       "\n",
       "        \n",
       "        <style type=\"text/css\">\n",
       "            .Relation{\n",
       "                border-collapse:collapse;\n",
       "            }\n",
       "            .Relation th{\n",
       "                background: #A0A0A0; color: #ffffff; padding:4px; border:#f0e0e0 1px solid;\n",
       "                font-weight: normal; font-family: monospace; font-size: 100%;\n",
       "            }\n",
       "            .Relation td{\n",
       "                padding:4px; border:#f0e0e0 1px solid; font-size:100%;\n",
       "            }\n",
       "            .Relation tr:nth-child(odd){\n",
       "                background: #ffffff;\n",
       "            }\n",
       "            .Relation tr:nth-child(even){\n",
       "                background: #f3f1ff;\n",
       "            }\n",
       "            /* Tooltip container */\n",
       "            .djtooltip {\n",
       "            }\n",
       "            /* Tooltip text */\n",
       "            .djtooltip .djtooltiptext {\n",
       "                visibility: hidden;\n",
       "                width: 120px;\n",
       "                background-color: black;\n",
       "                color: #fff;\n",
       "                text-align: center;\n",
       "                padding: 5px 0;\n",
       "                border-radius: 6px;\n",
       "                /* Position the tooltip text - see examples below! */\n",
       "                position: absolute;\n",
       "                z-index: 1;\n",
       "            }\n",
       "            #primary {\n",
       "                font-weight: bold;\n",
       "                color: black;\n",
       "            }\n",
       "\n",
       "            #nonprimary {\n",
       "                font-weight: normal;\n",
       "                color: white;\n",
       "            }\n",
       "\n",
       "            /* Show the tooltip text when you mouse over the tooltip container */\n",
       "            .djtooltip:hover .djtooltiptext {\n",
       "                visibility: visible;\n",
       "            }\n",
       "        </style>\n",
       "        \n",
       "        <b></b>\n",
       "            <div style=\"max-height:1000px;max-width:1500px;overflow:auto;\">\n",
       "            <table border=\"1\" class=\"Relation\">\n",
       "                <thead> <tr style=\"text-align: right;\"> <th> <div class=\"djtooltip\">\n",
       "                                <p id=\"primary\">subject_id</p>\n",
       "                                <span class=\"djtooltiptext\">institution 6 digit animal ID</span>\n",
       "                            </div></th><th><div class=\"djtooltip\">\n",
       "                                <p id=\"primary\">session</p>\n",
       "                                <span class=\"djtooltiptext\">session number</span>\n",
       "                            </div></th><th><div class=\"djtooltip\">\n",
       "                                <p id=\"nonprimary\">session_date</p>\n",
       "                                <span class=\"djtooltiptext\"></span>\n",
       "                            </div></th><th><div class=\"djtooltip\">\n",
       "                                <p id=\"nonprimary\">session_time</p>\n",
       "                                <span class=\"djtooltiptext\"></span>\n",
       "                            </div></th><th><div class=\"djtooltip\">\n",
       "                                <p id=\"nonprimary\">username</p>\n",
       "                                <span class=\"djtooltiptext\"></span>\n",
       "                            </div></th><th><div class=\"djtooltip\">\n",
       "                                <p id=\"nonprimary\">rig</p>\n",
       "                                <span class=\"djtooltiptext\"></span>\n",
       "                            </div> </th> </tr> </thead>\n",
       "                <tbody> <tr> <td>412330</td>\n",
       "<td>64</td>\n",
       "<td>2018-07-16</td>\n",
       "<td>15:46:24</td>\n",
       "<td>daveliu</td>\n",
       "<td>RRig</td></tr><tr><td>412753</td>\n",
       "<td>89</td>\n",
       "<td>2018-07-10</td>\n",
       "<td>14:19:59</td>\n",
       "<td>daveliu</td>\n",
       "<td>RRig</td></tr><tr><td>413950</td>\n",
       "<td>120</td>\n",
       "<td>2018-10-22</td>\n",
       "<td>10:47:29</td>\n",
       "<td>daveliu</td>\n",
       "<td>RRig</td></tr><tr><td>413950</td>\n",
       "<td>121</td>\n",
       "<td>2018-10-23</td>\n",
       "<td>10:52:16</td>\n",
       "<td>daveliu</td>\n",
       "<td>RRig</td></tr><tr><td>432570</td>\n",
       "<td>13</td>\n",
       "<td>2018-10-22</td>\n",
       "<td>14:06:50</td>\n",
       "<td>daveliu</td>\n",
       "<td>RRig</td></tr><tr><td>432572</td>\n",
       "<td>9</td>\n",
       "<td>2018-11-20</td>\n",
       "<td>20:42:01</td>\n",
       "<td>daveliu</td>\n",
       "<td>RRig</td></tr><tr><td>432572</td>\n",
       "<td>10</td>\n",
       "<td>2018-11-21</td>\n",
       "<td>19:14:39</td>\n",
       "<td>daveliu</td>\n",
       "<td>RRig</td> </tr> </tbody>\n",
       "            </table>\n",
       "            <p>...</p>\n",
       "            <p>Total: 34</p></div>\n",
       "            "
      ],
      "text/plain": [
       "*subject_id    *session    session_date   session_time   username     rig     \n",
       "+------------+ +---------+ +------------+ +------------+ +----------+ +------+\n",
       "412330         64          2018-07-16     15:46:24       daveliu      RRig    \n",
       "412753         89          2018-07-10     14:19:59       daveliu      RRig    \n",
       "413950         120         2018-10-22     10:47:29       daveliu      RRig    \n",
       "413950         121         2018-10-23     10:52:16       daveliu      RRig    \n",
       "432570         13          2018-10-22     14:06:50       daveliu      RRig    \n",
       "432572         9           2018-11-20     20:42:01       daveliu      RRig    \n",
       "432572         10          2018-11-21     19:14:39       daveliu      RRig    \n",
       "   ...\n",
       " (Total: 34)"
      ]
     },
     "execution_count": 3,
     "metadata": {},
     "output_type": "execute_result"
    }
   ],
   "source": [
    "experiment.Session & ephys.ProbeInsertion"
   ]
  },
  {
   "cell_type": "code",
   "execution_count": 4,
   "metadata": {},
   "outputs": [],
   "source": [
    "skey = {'subject_id': 432572, 'session': 9, 'session_date': '2018-11-20'}"
   ]
  },
  {
   "cell_type": "code",
   "execution_count": 5,
   "metadata": {},
   "outputs": [
    {
     "data": {
      "text/html": [
       "\n",
       "        \n",
       "        <style type=\"text/css\">\n",
       "            .Relation{\n",
       "                border-collapse:collapse;\n",
       "            }\n",
       "            .Relation th{\n",
       "                background: #A0A0A0; color: #ffffff; padding:4px; border:#f0e0e0 1px solid;\n",
       "                font-weight: normal; font-family: monospace; font-size: 100%;\n",
       "            }\n",
       "            .Relation td{\n",
       "                padding:4px; border:#f0e0e0 1px solid; font-size:100%;\n",
       "            }\n",
       "            .Relation tr:nth-child(odd){\n",
       "                background: #ffffff;\n",
       "            }\n",
       "            .Relation tr:nth-child(even){\n",
       "                background: #f3f1ff;\n",
       "            }\n",
       "            /* Tooltip container */\n",
       "            .djtooltip {\n",
       "            }\n",
       "            /* Tooltip text */\n",
       "            .djtooltip .djtooltiptext {\n",
       "                visibility: hidden;\n",
       "                width: 120px;\n",
       "                background-color: black;\n",
       "                color: #fff;\n",
       "                text-align: center;\n",
       "                padding: 5px 0;\n",
       "                border-radius: 6px;\n",
       "                /* Position the tooltip text - see examples below! */\n",
       "                position: absolute;\n",
       "                z-index: 1;\n",
       "            }\n",
       "            #primary {\n",
       "                font-weight: bold;\n",
       "                color: black;\n",
       "            }\n",
       "\n",
       "            #nonprimary {\n",
       "                font-weight: normal;\n",
       "                color: white;\n",
       "            }\n",
       "\n",
       "            /* Show the tooltip text when you mouse over the tooltip container */\n",
       "            .djtooltip:hover .djtooltiptext {\n",
       "                visibility: visible;\n",
       "            }\n",
       "        </style>\n",
       "        \n",
       "        <b></b>\n",
       "            <div style=\"max-height:1000px;max-width:1500px;overflow:auto;\">\n",
       "            <table border=\"1\" class=\"Relation\">\n",
       "                <thead> <tr style=\"text-align: right;\"> <th> <div class=\"djtooltip\">\n",
       "                                <p id=\"primary\">subject_id</p>\n",
       "                                <span class=\"djtooltiptext\">institution 6 digit animal ID</span>\n",
       "                            </div></th><th><div class=\"djtooltip\">\n",
       "                                <p id=\"primary\">session</p>\n",
       "                                <span class=\"djtooltiptext\">session number</span>\n",
       "                            </div></th><th><div class=\"djtooltip\">\n",
       "                                <p id=\"primary\">insertion_number</p>\n",
       "                                <span class=\"djtooltiptext\"></span>\n",
       "                            </div></th><th><div class=\"djtooltip\">\n",
       "                                <p id=\"nonprimary\">probe</p>\n",
       "                                <span class=\"djtooltiptext\">unique identifier for this model of probe (e.g. part number)</span>\n",
       "                            </div></th><th><div class=\"djtooltip\">\n",
       "                                <p id=\"nonprimary\">probe_type</p>\n",
       "                                <span class=\"djtooltiptext\">e.g. neuropixels_1.0</span>\n",
       "                            </div></th><th><div class=\"djtooltip\">\n",
       "                                <p id=\"nonprimary\">electrode_config_name</p>\n",
       "                                <span class=\"djtooltiptext\">user friendly name</span>\n",
       "                            </div> </th> </tr> </thead>\n",
       "                <tbody> <tr> <td>432572</td>\n",
       "<td>9</td>\n",
       "<td>1</td>\n",
       "<td>641250222</td>\n",
       "<td>neuropixels 1.0 - 3A</td>\n",
       "<td>1-384</td></tr><tr><td>432572</td>\n",
       "<td>9</td>\n",
       "<td>2</td>\n",
       "<td>641251247</td>\n",
       "<td>neuropixels 1.0 - 3A</td>\n",
       "<td>1-384</td> </tr> </tbody>\n",
       "            </table>\n",
       "            \n",
       "            <p>Total: 2</p></div>\n",
       "            "
      ],
      "text/plain": [
       "*subject_id    *session    *insertion_num probe         probe_type     electrode_conf\n",
       "+------------+ +---------+ +------------+ +-----------+ +------------+ +------------+\n",
       "432572         9           1              641250222     neuropixels 1. 1-384         \n",
       "432572         9           2              641251247     neuropixels 1. 1-384         \n",
       " (Total: 2)"
      ]
     },
     "execution_count": 5,
     "metadata": {},
     "output_type": "execute_result"
    }
   ],
   "source": [
    "ephys.ProbeInsertion & skey"
   ]
  },
  {
   "cell_type": "markdown",
   "metadata": {},
   "source": [
    "The selected session has 2 probe insertions, here we can select just one for export"
   ]
  },
  {
   "cell_type": "code",
   "execution_count": 6,
   "metadata": {},
   "outputs": [],
   "source": [
    "ekey = {**skey, 'insertion_number': 1}"
   ]
  },
  {
   "cell_type": "markdown",
   "metadata": {},
   "source": [
    "## Export Data"
   ]
  },
  {
   "cell_type": "markdown",
   "metadata": {},
   "source": [
    "The `export.export_recording` function is used to export data. Online help is available as follows"
   ]
  },
  {
   "cell_type": "code",
   "execution_count": 5,
   "metadata": {},
   "outputs": [
    {
     "name": "stdout",
     "output_type": "stream",
     "text": [
      "Help on function export_recording in module pipeline.export:\n",
      "\n",
      "export_recording(insert_keys, output_dir='./', filename=None)\n",
      "    Export a 'recording' (or a list of recording) (probe specific data + related events) to a file.\n",
      "    \n",
      "    Parameters:\n",
      "    \n",
      "      - insert_keys: one or a list of ephys.ProbeInsertion.primary_key\n",
      "        currently: {'subject_id', 'session', 'insertion_number'})\n",
      "    \n",
      "      - output_dir: directory to save the file at (default to be the current working directory)\n",
      "    \n",
      "      - filename: an optional output file path string. If not provided,\n",
      "        filename will be autogenerated using the 'mkfilename'\n",
      "        function.\n",
      "        Note: if exporting a list of probe keys, filename will be auto-generated\n",
      "\n"
     ]
    }
   ],
   "source": [
    "help(export.export_recording)"
   ]
  },
  {
   "cell_type": "code",
   "execution_count": 6,
   "metadata": {},
   "outputs": [
    {
     "name": "stdout",
     "output_type": "stream",
     "text": [
      "Help on function mkfilename in module pipeline.export:\n",
      "\n",
      "mkfilename(insert_key)\n",
      "    create a filename for the given insertion key.\n",
      "    filename will be of the format map-export_h2o_YYYYMMDD_HHMMSS_SN_PN.mat\n",
      "    \n",
      "    where:\n",
      "    \n",
      "      - h2o: water restriction number\n",
      "      - YYYYMMDD_HHMMSS: session recording datetime\n",
      "      - SN: session number for this subject\n",
      "      - PN: probe number for this session\n",
      "\n"
     ]
    }
   ],
   "source": [
    "help(export.mkfilename)"
   ]
  },
  {
   "cell_type": "code",
   "execution_count": 7,
   "metadata": {},
   "outputs": [
    {
     "name": "stdout",
     "output_type": "stream",
     "text": [
      "exporting {'subject_id': 432572, 'session': 9, 'session_date': '2018-11-20', 'insertion_number': 1} to map-export_dl56_20181120_204201_s9_p1.mat\n",
      "fetching spike/behavior data\n",
      "reshaping/processing for export\n",
      "... neuron_single_units:ok.\n",
      "... neuron_unit_info:"
     ]
    },
    {
     "name": "stderr",
     "output_type": "stream",
     "text": [
      "C:\\Users\\thinh\\AppData\\Roaming\\Python\\Python37\\site-packages\\datajoint\\connection.py:211: UserWarning: MySQL server has gone away. Reconnecting to the server.\n",
      "  warnings.warn(\"MySQL server has gone away. Reconnecting to the server.\")\n"
     ]
    },
    {
     "name": "stdout",
     "output_type": "stream",
     "text": [
      "ok.\n",
      "... behavior_report:ok.\n",
      "... behavior_early_report:ok.\n",
      "... behavior_lick_times:ok.\n",
      "... task_trial_type:ok.\n",
      "... task_stimulation:ok.\n",
      "... task_cue_time:ok.\n",
      "... saving to map-export_dl56_20181120_204201_s9_p1.mat:ok.\n"
     ]
    }
   ],
   "source": [
    "export.export_recording(ekey)"
   ]
  },
  {
   "cell_type": "markdown",
   "metadata": {},
   "source": [
    "## Export Data (pipeline.shell - interactive)"
   ]
  },
  {
   "cell_type": "markdown",
   "metadata": {},
   "source": [
    "The `pipeline.shell` module wrapps the export_recording fuction - usage is as above:\n",
    "\n",
    "```\n",
    "from pipeline import shell\n",
    "shell.export_recording(ekey)\n",
    "```"
   ]
  },
  {
   "cell_type": "markdown",
   "metadata": {},
   "source": [
    "## Export Data (mapshell.py)"
   ]
  },
  {
   "cell_type": "markdown",
   "metadata": {},
   "source": [
    "To use the `export-recording` feature of the `mapshell.py` convenience script, pass in a quoted key and optional filename:\n",
    "\n",
    "\n",
    "```\n",
    "$ mapshell.py export-recording \"{'subject_id': 435884, 'session': 1, 'session_date': '2018-12-07', 'insertion_number': 1}\"\n",
    "```"
   ]
  },
  {
   "cell_type": "markdown",
   "metadata": {},
   "source": [
    "### Note: `export.export_recording()` can also work on a list of `ekey` as input, for batch export"
   ]
  },
  {
   "cell_type": "code",
   "execution_count": 12,
   "metadata": {},
   "outputs": [
    {
     "name": "stderr",
     "output_type": "stream",
     "text": [
      "C:\\Users\\thinh\\AppData\\Roaming\\Python\\Python37\\site-packages\\datajoint\\connection.py:211: UserWarning: MySQL server has gone away. Reconnecting to the server.\n",
      "  warnings.warn(\"MySQL server has gone away. Reconnecting to the server.\")\n"
     ]
    }
   ],
   "source": [
    "ekeys = (ephys.ProbeInsertion & skey).fetch('KEY')"
   ]
  },
  {
   "cell_type": "code",
   "execution_count": 13,
   "metadata": {},
   "outputs": [
    {
     "data": {
      "text/plain": [
       "[{'subject_id': 432572, 'session': 9, 'insertion_number': 1},\n",
       " {'subject_id': 432572, 'session': 9, 'insertion_number': 2}]"
      ]
     },
     "execution_count": 13,
     "metadata": {},
     "output_type": "execute_result"
    }
   ],
   "source": [
    "ekeys"
   ]
  },
  {
   "cell_type": "code",
   "execution_count": null,
   "metadata": {},
   "outputs": [],
   "source": [
    "export.export_recording(ekeys)"
   ]
  }
 ],
 "metadata": {
  "kernelspec": {
   "display_name": "Python 3",
   "language": "python",
   "name": "python3"
  },
  "language_info": {
   "codemirror_mode": {
    "name": "ipython",
    "version": 3
   },
   "file_extension": ".py",
   "mimetype": "text/x-python",
   "name": "python",
   "nbconvert_exporter": "python",
   "pygments_lexer": "ipython3",
   "version": "3.7.0"
  }
 },
 "nbformat": 4,
 "nbformat_minor": 2
}
